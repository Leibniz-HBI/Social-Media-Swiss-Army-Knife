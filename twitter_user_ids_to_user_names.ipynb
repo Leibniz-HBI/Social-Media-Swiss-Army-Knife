{
 "cells": [
  {
   "cell_type": "code",
   "execution_count": null,
   "metadata": {},
   "outputs": [],
   "source": [
    "import pandas as pd"
   ]
  },
  {
   "cell_type": "code",
   "execution_count": null,
   "metadata": {},
   "outputs": [],
   "source": [
    "id_path = 'data/user_ids.csv' # CHANGEME"
   ]
  },
  {
   "cell_type": "code",
   "execution_count": null,
   "metadata": {},
   "outputs": [],
   "source": [
    "user_ids = pd.read_csv(id_path, header=None)\n",
    "user_ids"
   ]
  },
  {
   "cell_type": "code",
   "execution_count": null,
   "metadata": {},
   "outputs": [],
   "source": [
    "from twarc.client2 import Twarc2"
   ]
  },
  {
   "cell_type": "code",
   "execution_count": null,
   "metadata": {},
   "outputs": [],
   "source": [
    "from credentials import twitter_bearer_token # Create credentials.py and add as variable if not found"
   ]
  },
  {
   "cell_type": "code",
   "execution_count": null,
   "metadata": {},
   "outputs": [],
   "source": [
    "t = Twarc2(bearer_token=twitter_bearer_token)"
   ]
  },
  {
   "cell_type": "code",
   "execution_count": null,
   "metadata": {},
   "outputs": [],
   "source": [
    "from twarc.expansions import ensure_flattened\n",
    "\n",
    "user_list = []\n",
    "\n",
    "user_details = t.user_lookup(users=user_ids[0].values, user_fields=['username'], tweet_fields=[])\n",
    "\n",
    "for page in user_details:\n",
    "    flattened = ensure_flattened(page)\n",
    "    for user_record in flattened:\n",
    "        user_list.append(user_record)\n",
    "\n",
    "\n",
    "result = pd.DataFrame(user_list)[['id', 'name', 'username']]\n",
    "result"
   ]
  },
  {
   "cell_type": "code",
   "execution_count": null,
   "metadata": {},
   "outputs": [],
   "source": [
    "result.to_csv('data/user_ids_names_usernames.csv')"
   ]
  },
  {
   "cell_type": "code",
   "execution_count": null,
   "metadata": {},
   "outputs": [],
   "source": [
    "!wc -l data/user_ids_names_usernames.csv"
   ]
  }
 ],
 "metadata": {
  "kernelspec": {
   "display_name": "Python 3.10.8 ('Social-Media-Swiss-Army-Knife-ep6tQZtC')",
   "language": "python",
   "name": "python3"
  },
  "language_info": {
   "codemirror_mode": {
    "name": "ipython",
    "version": 3
   },
   "file_extension": ".py",
   "mimetype": "text/x-python",
   "name": "python",
   "nbconvert_exporter": "python",
   "pygments_lexer": "ipython3",
   "version": "3.10.8"
  },
  "orig_nbformat": 4,
  "vscode": {
   "interpreter": {
    "hash": "4ca17595b33c206f47ce4766632b5f610d43f60e23e509e864ff720c76a6a416"
   }
  }
 },
 "nbformat": 4,
 "nbformat_minor": 2
}
