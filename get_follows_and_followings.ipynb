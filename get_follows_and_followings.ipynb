{
 "cells": [
  {
   "cell_type": "code",
   "execution_count": null,
   "metadata": {},
   "outputs": [],
   "source": [
    "import pandas as pd\n",
    "from twarc.client2 import Twarc2\n",
    "from credentials import twitter_bearer_token # Create credentials.py and add as variable if not found\n",
    "import json"
   ]
  },
  {
   "cell_type": "code",
   "execution_count": null,
   "metadata": {},
   "outputs": [],
   "source": [
    "from twarc.expansions import ensure_flattened\n",
    "from os import makedirs\n",
    "\n",
    "\n",
    "# Your bearer token here\n",
    "t = Twarc2(bearer_token=twitter_bearer_token)"
   ]
  },
  {
   "cell_type": "code",
   "execution_count": null,
   "metadata": {},
   "outputs": [],
   "source": [
    "path_to_user_csv = 'data/user_ids_names_usernames.csv'  ## CHANGEME\n",
    "users = pd.read_csv(path_to_user_csv)\n",
    "users"
   ]
  },
  {
   "cell_type": "code",
   "execution_count": null,
   "metadata": {},
   "outputs": [],
   "source": [
    "# CHANGE AS NEEDED\n",
    "\n",
    "username_column = 'username'\n",
    "userid_column = 'id'\n",
    "\n",
    "users = users[['id','username']]\n",
    "users"
   ]
  },
  {
   "attachments": {},
   "cell_type": "markdown",
   "metadata": {},
   "source": [
    "# Get followers"
   ]
  },
  {
   "cell_type": "code",
   "execution_count": null,
   "metadata": {},
   "outputs": [],
   "source": [
    "makedirs('data/userdata_followers', exist_ok=True)\n",
    "\n",
    "for i, user in users.iterrows():\n",
    "  print(f\"Fetching followers {i+1}/{len(users)} for username {user.username}\")\n",
    "\n",
    "  username = user.username.lower()\n",
    "  filepath = f\"data/userdata_followers/{user.id}.json\"\n",
    "\n",
    "  if not os.path.exists(filepath):\n",
    "    with open(filepath, 'w+'): pass\n",
    "\n",
    "  if os.path.getsize(filepath) > 0:\n",
    "    continue\n",
    "  \n",
    "  try:\n",
    "    follows = []\n",
    "    follows_generator = t.followers(user=user.id)\n",
    "    \n",
    "    for i, follower_page in enumerate(follows_generator):\n",
    "      print(f\"Processing page {i+1} for {username}\")\n",
    "      follows = follows + follower_page[\"data\"]\n",
    "\n",
    "    with open(filepath, 'w+') as f:\n",
    "      f.write(json.dumps(follows))\n",
    "\n",
    "  except Exception as e:\n",
    "    print(f\"Collecting follows for {username} failed with {e}\")\n",
    "\n",
    "  break"
   ]
  },
  {
   "attachments": {},
   "cell_type": "markdown",
   "metadata": {},
   "source": [
    "# Get followings"
   ]
  },
  {
   "cell_type": "code",
   "execution_count": null,
   "metadata": {},
   "outputs": [],
   "source": [
    "makedirs('data/userdata_followings', exist_ok=True)\n",
    "\n",
    "for i, user in users.iterrows():\n",
    "  print(f\"Fetching followings {i+1}/{len(users)} for username {user.username}\")\n",
    "\n",
    "  username = user.username.lower()\n",
    "  filepath = f\"data/userdata_followings/{user.id}.json\"\n",
    "\n",
    "  if not os.path.exists(filepath):\n",
    "    with open(filepath, 'w+'): pass\n",
    "\n",
    "  if os.path.getsize(filepath) > 0:\n",
    "    continue\n",
    "  \n",
    "  try:\n",
    "    follows = []\n",
    "    follows_generator = t.following(user=user.id)\n",
    "    \n",
    "    for i, follower_page in enumerate(follows_generator):\n",
    "      print(f\"Processing page {i+1} for {username}\")\n",
    "      follows = follows + follower_page[\"data\"]\n",
    "\n",
    "    with open(filepath, 'w+') as f:\n",
    "      f.write(json.dumps(follows))\n",
    "\n",
    "  except Exception as e:\n",
    "    print(f\"Collecting followings for {username} failed with {e}\")\n",
    "    raise e\n",
    "\n",
    "  break"
   ]
  }
 ],
 "metadata": {
  "kernelspec": {
   "display_name": "Social-Media-Swiss-Army-Knife-ep6tQZtC",
   "language": "python",
   "name": "python3"
  },
  "language_info": {
   "codemirror_mode": {
    "name": "ipython",
    "version": 3
   },
   "file_extension": ".py",
   "mimetype": "text/x-python",
   "name": "python",
   "nbconvert_exporter": "python",
   "pygments_lexer": "ipython3",
   "version": "3.10.9"
  },
  "orig_nbformat": 4,
  "vscode": {
   "interpreter": {
    "hash": "4ca17595b33c206f47ce4766632b5f610d43f60e23e509e864ff720c76a6a416"
   }
  }
 },
 "nbformat": 4,
 "nbformat_minor": 2
}
